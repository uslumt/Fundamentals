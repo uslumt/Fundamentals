{
 "cells": [
  {
   "cell_type": "markdown",
   "metadata": {},
   "source": [
    "# Introduction\n",
    "\n",
    "In this project, you will build a neural network of your own design to evaluate the CIFAR-10 dataset.\n",
    "\n",
    "To meet the requirements for this project, you will need to achieve an accuracy greater than 45%. \n",
    "If you want to beat Detectocorp's algorithm, you'll need to achieve an accuracy greater than 70%. \n",
    "(Beating Detectocorp's algorithm is not a requirement for passing this project, but you're encouraged to try!)\n",
    "\n",
    "Some of the benchmark results on CIFAR-10 include:\n",
    "\n",
    "78.9% Accuracy | [Deep Belief Networks; Krizhevsky, 2010](https://www.cs.toronto.edu/~kriz/conv-cifar10-aug2010.pdf)\n",
    "\n",
    "90.6% Accuracy | [Maxout Networks; Goodfellow et al., 2013](https://arxiv.org/pdf/1302.4389.pdf)\n",
    "\n",
    "96.0% Accuracy | [Wide Residual Networks; Zagoruyko et al., 2016](https://arxiv.org/pdf/1605.07146.pdf)\n",
    "\n",
    "99.0% Accuracy | [GPipe; Huang et al., 2018](https://arxiv.org/pdf/1811.06965.pdf)\n",
    "\n",
    "98.5% Accuracy | [Rethinking Recurrent Neural Networks and other Improvements for ImageClassification; Nguyen et al., 2020](https://arxiv.org/pdf/2007.15161.pdf)\n",
    "\n",
    "Research with this dataset is ongoing. Notably, many of these networks are quite large and quite expensive to train. \n",
    "\n",
    "## Imports"
   ]
  },
  {
   "cell_type": "code",
   "execution_count": 1,
   "metadata": {},
   "outputs": [],
   "source": [
    "## This cell contains the essential imports you will need – DO NOT CHANGE THE CONTENTS! ##\n",
    "import torch\n",
    "import torch.nn as nn\n",
    "import torch.nn.functional as F\n",
    "import torch.optim as optim\n",
    "import torchvision\n",
    "import torchvision.transforms as transforms\n",
    "import matplotlib.pyplot as plt\n",
    "import numpy as np\n",
    "from datetime import datetime"
   ]
  },
  {
   "cell_type": "code",
   "execution_count": 2,
   "metadata": {},
   "outputs": [],
   "source": [
    "torch.manual_seed(0)\n",
    "np.random.seed(0)"
   ]
  },
  {
   "cell_type": "markdown",
   "metadata": {},
   "source": [
    "## Load the Dataset\n",
    "\n",
    "Specify your transforms as a list first.\n",
    "The transforms module is already loaded as `transforms`.\n",
    "\n",
    "CIFAR-10 is fortunately included in the torchvision module.\n",
    "Then, you can create your dataset using the `CIFAR10` object from `torchvision.datasets` ([the documentation is available here](https://pytorch.org/vision/stable/generated/torchvision.datasets.CIFAR10.html)).\n",
    "Make sure to specify `download=True`! \n",
    "\n",
    "Once your dataset is created, you'll also need to define a `DataLoader` from the `torch.utils.data` module for both the train and the test set."
   ]
  },
  {
   "cell_type": "code",
   "execution_count": 3,
   "metadata": {},
   "outputs": [
    {
     "name": "stdout",
     "output_type": "stream",
     "text": [
      "Files already downloaded and verified\n",
      "Files already downloaded and verified\n",
      "50000 images in train and validation dataset\n",
      "10000 images in test dataset\n",
      "Training Size: 40000 \n",
      "Validation Size: 10000\n"
     ]
    }
   ],
   "source": [
    "# Define transforms\n",
    "transform = transforms.Compose([transforms.RandomRotation(25),\n",
    "                                       transforms.RandomHorizontalFlip(),\n",
    "                                       transforms.ToTensor(),\n",
    "                                       ]) \n",
    "test_transforms = transforms.Compose([transforms.ToTensor(), ])\n",
    "\n",
    "batch = 8\n",
    "train_validation_dataset = torchvision.datasets.CIFAR10('~/.pytorch/CIFAR10_data/', download=True, train=True, transform=transform)\n",
    "test_data = torchvision.datasets.CIFAR10('~/.pytorch/CIFAR10_data/', download=True, train=False, transform=test_transforms) \n",
    "print(f\"{len(train_validation_dataset)} images in train and validation dataset\\n{len(test_data)} images in test dataset\")\n",
    "train_size = int(np.floor(0.8 * len(train_validation_dataset)))\n",
    "validation_size = len(train_validation_dataset) - train_size\n",
    "print(f\"Training Size: {train_size} \\nValidation Size: {validation_size}\")\n",
    "train_data, valid_data = torch.utils.data.random_split(train_validation_dataset, [train_size, validation_size])\n",
    "    \n",
    "# Create dataloader\n",
    "trainloader = torch.utils.data.DataLoader(train_data, batch_size=batch, shuffle=True)\n",
    "validloader = torch.utils.data.DataLoader(valid_data, batch_size=batch, shuffle=True)\n",
    "testloader = torch.utils.data.DataLoader(test_data, batch_size=batch, shuffle=True)\n",
    "\n",
    "# The 10 classes in the dataset\n",
    "classes = ('plane', 'car', 'bird', 'cat', 'deer', 'dog', 'frog', 'horse', 'ship', 'truck')"
   ]
  },
  {
   "cell_type": "markdown",
   "metadata": {},
   "source": [
    "## Explore the Dataset\n",
    "Using matplotlib, numpy, and torch, explore the dimensions of your data.\n",
    "\n",
    "You can view images using the `show5` function defined below – it takes a data loader as an argument.\n",
    "Remember that normalized images will look really weird to you! You may want to try changing your transforms to view images.\n",
    "Typically using no transforms other than `toTensor()` works well for viewing – but not as well for training your network.\n",
    "If `show5` doesn't work, go back and check your code for creating your data loaders and your training/test sets."
   ]
  },
  {
   "cell_type": "code",
   "execution_count": 4,
   "metadata": {},
   "outputs": [],
   "source": [
    "def show5(img_loader):\n",
    "    dataiter = iter(img_loader)\n",
    "    \n",
    "    batch = next(dataiter)\n",
    "    labels = batch[1][0:5]\n",
    "    images = batch[0][0:5]\n",
    "    for i in range(5):\n",
    "        print(classes[labels[i]])\n",
    "    \n",
    "        image = images[i].numpy() \n",
    "        plt.imshow(np.rot90(image.T, k=3))\n",
    "        plt.show()"
   ]
  },
  {
   "cell_type": "code",
   "execution_count": 5,
   "metadata": {},
   "outputs": [
    {
     "name": "stdout",
     "output_type": "stream",
     "text": [
      "Type of images: <class 'torch.Tensor'>\n",
      "Batch Size: 8\n",
      "Images Shape: [8, 3, 32, 32]\n",
      "Labels Shape: [8]\n"
     ]
    }
   ],
   "source": [
    "dataiter = iter(trainloader)\n",
    "images, labels = dataiter.next()\n",
    "print(f\"Type of images: {type(images)}\")\n",
    "print(f\"Batch Size: {batch}\")\n",
    "print(f\"Images Shape: {list(images.shape)}\")\n",
    "print(f\"Labels Shape: {list(labels.shape)}\")"
   ]
  },
  {
   "cell_type": "code",
   "execution_count": null,
   "metadata": {},
   "outputs": [],
   "source": []
  },
  {
   "cell_type": "code",
   "execution_count": 6,
   "metadata": {
    "scrolled": true
   },
   "outputs": [
    {
     "name": "stdout",
     "output_type": "stream",
     "text": [
      "dog\n"
     ]
    },
    {
     "data": {
      "image/png": "[encoded data removed]",
      "text/plain": [
       "<Figure size 432x288 with 1 Axes>"
      ]
     },
     "metadata": {
      "needs_background": "light"
     },
     "output_type": "display_data"
    },
    {
     "name": "stdout",
     "output_type": "stream",
     "text": [
      "cat\n"
     ]
    },
    {
     "data": {
      "image/png": "[encoded data removed]",
      "text/plain": [
       "<Figure size 432x288 with 1 Axes>"
      ]
     },
     "metadata": {
      "needs_background": "light"
     },
     "output_type": "display_data"
    },
    {
     "name": "stdout",
     "output_type": "stream",
     "text": [
      "deer\n"
     ]
    },
    {
     "data": {
      "image/png": "[encoded data removed]",
      "text/plain": [
       "<Figure size 432x288 with 1 Axes>"
      ]
     },
     "metadata": {
      "needs_background": "light"
     },
     "output_type": "display_data"
    },
    {
     "name": "stdout",
     "output_type": "stream",
     "text": [
      "horse\n"
     ]
    },
    {
     "data": {
      "image/png": "[encoded data removed]",
      "text/plain": [
       "<Figure size 432x288 with 1 Axes>"
      ]
     },
     "metadata": {
      "needs_background": "light"
     },
     "output_type": "display_data"
    },
    {
     "name": "stdout",
     "output_type": "stream",
     "text": [
      "bird\n"
     ]
    },
    {
     "data": {
      "image/png": "[encoded data removed]",
      "text/plain": [
       "<Figure size 432x288 with 1 Axes>"
      ]
     },
     "metadata": {
      "needs_background": "light"
     },
     "output_type": "display_data"
    }
   ],
   "source": [
    "# Plot some images with corresponding labels\n",
    "show5(trainloader)"
   ]
  },
  {
   "cell_type": "markdown",
   "metadata": {},
   "source": [
    "## Build your Neural Network\n",
    "Using the layers in `torch.nn` (which has been imported as `nn`) and the `torch.nn.functional` module (imported as `F`), construct a neural network based on the parameters of the dataset. \n",
    "Feel free to construct a model of any architecture – feedforward, convolutional, or even something more advanced!"
   ]
  },
  {
   "cell_type": "code",
   "execution_count": 7,
   "metadata": {},
   "outputs": [
    {
     "name": "stdout",
     "output_type": "stream",
     "text": [
      "Sequential(\n",
      "  (0): Linear(in_features=3072, out_features=1536, bias=True)\n",
      "  (1): ReLU()\n",
      "  (2): Linear(in_features=1536, out_features=768, bias=True)\n",
      "  (3): ReLU()\n",
      "  (4): Linear(in_features=768, out_features=384, bias=True)\n",
      "  (5): ReLU()\n",
      "  (6): Linear(in_features=384, out_features=10, bias=True)\n",
      "  (7): LogSoftmax(dim=1)\n",
      ")\n"
     ]
    }
   ],
   "source": [
    "## YOUR CODE HERE ##\n",
    "input_size = np.prod(list(images.shape)[-3 : ]) \n",
    "first_hidden_sizes = np.array([int(input_size / 2) , int(input_size / 4)])\n",
    "Second_hidden_sizes = np.divide(first_hidden_sizes, 2).astype(int)\n",
    "output_size = len(classes)\n",
    "\n",
    "# Build a feed-forward network\n",
    "model = nn.Sequential(nn.Linear(input_size, first_hidden_sizes[0]),\n",
    "                      nn.ReLU(),\n",
    "                      nn.Linear(first_hidden_sizes[0], first_hidden_sizes[1]),\n",
    "                      nn.ReLU(),\n",
    "                      nn.Linear(Second_hidden_sizes[0], Second_hidden_sizes[1]),\n",
    "                      nn.ReLU(),\n",
    "                      nn.Linear(Second_hidden_sizes[1], output_size),\n",
    "                      nn.LogSoftmax(dim=1))      \n",
    "print(model)"
   ]
  },
  {
   "cell_type": "markdown",
   "metadata": {},
   "source": [
    "Specify a loss function and an optimizer, and instantiate the model.\n",
    "\n",
    "If you use a less common loss function, please note why you chose that loss function in a comment."
   ]
  },
  {
   "cell_type": "code",
   "execution_count": 8,
   "metadata": {},
   "outputs": [],
   "source": [
    "## YOUR CODE HERE ##\n",
    "criterion = nn.NLLLoss() # since the output of the network is LogSoftmax\n",
    "device = torch.device(\"cuda\" if torch.cuda.is_available() else \"cpu\")\n",
    "model.to(device)\n",
    "# Define the optimize\n",
    "optimizer = optim.SGD( model.parameters(), lr=2e-3, momentum=0.85)"
   ]
  },
  {
   "cell_type": "markdown",
   "metadata": {},
   "source": [
    "## Running your Neural Network\n",
    "Use whatever method you like to train your neural network, and ensure you record the average loss at each epoch. \n",
    "Don't forget to use `torch.device()` and the `.to()` method for both your model and your data if you are using GPU!\n",
    "\n",
    "If you want to print your loss during each epoch, you can use the `enumerate` function and print the loss after a set number of batches. 250 batches works well for most people!"
   ]
  },
  {
   "cell_type": "code",
   "execution_count": 9,
   "metadata": {
    "scrolled": true
   },
   "outputs": [
    {
     "name": "stdout",
     "output_type": "stream",
     "text": [
      "Used Device: cuda ... Model on GPU: True ...\n",
      "Epoch 1/25\tTrain loss: 1.959\tvalidation loss: 1.799\tvalidation accuracy: 0.356\n",
      "\t\t##### Found a better model and saved ####\n",
      "Epoch 2/25\tTrain loss: 1.745\tvalidation loss: 1.711\tvalidation accuracy: 0.384\n",
      "\t\t##### Found a better model and saved ####\n",
      "Epoch 3/25\tTrain loss: 1.663\tvalidation loss: 1.652\tvalidation accuracy: 0.410\n",
      "\t\t##### Found a better model and saved ####\n",
      "Epoch 4/25\tTrain loss: 1.609\tvalidation loss: 1.631\tvalidation accuracy: 0.413\n",
      "\t\t##### Found a better model and saved ####\n",
      "Epoch 5/25\tTrain loss: 1.565\tvalidation loss: 1.653\tvalidation accuracy: 0.407\n",
      "Epoch 6/25\tTrain loss: 1.530\tvalidation loss: 1.561\tvalidation accuracy: 0.444\n",
      "\t\t##### Found a better model and saved ####\n",
      "Epoch 7/25\tTrain loss: 1.502\tvalidation loss: 1.530\tvalidation accuracy: 0.450\n",
      "\t\t##### Found a better model and saved ####\n",
      "Epoch 8/25\tTrain loss: 1.472\tvalidation loss: 1.480\tvalidation accuracy: 0.476\n",
      "\t\t##### Found a better model and saved ####\n",
      "Epoch 9/25\tTrain loss: 1.445\tvalidation loss: 1.482\tvalidation accuracy: 0.468\n",
      "Epoch 10/25\tTrain loss: 1.423\tvalidation loss: 1.461\tvalidation accuracy: 0.481\n",
      "\t\t##### Found a better model and saved ####\n",
      "Epoch 11/25\tTrain loss: 1.400\tvalidation loss: 1.457\tvalidation accuracy: 0.474\n",
      "\t\t##### Found a better model and saved ####\n",
      "Epoch 12/25\tTrain loss: 1.378\tvalidation loss: 1.442\tvalidation accuracy: 0.486\n",
      "\t\t##### Found a better model and saved ####\n",
      "Epoch 13/25\tTrain loss: 1.355\tvalidation loss: 1.450\tvalidation accuracy: 0.488\n",
      "Epoch 14/25\tTrain loss: 1.341\tvalidation loss: 1.452\tvalidation accuracy: 0.480\n",
      "Epoch 15/25\tTrain loss: 1.317\tvalidation loss: 1.405\tvalidation accuracy: 0.500\n",
      "\t\t##### Found a better model and saved ####\n",
      "Epoch 16/25\tTrain loss: 1.298\tvalidation loss: 1.413\tvalidation accuracy: 0.494\n",
      "Epoch 17/25\tTrain loss: 1.281\tvalidation loss: 1.419\tvalidation accuracy: 0.500\n",
      "Epoch 18/25\tTrain loss: 1.262\tvalidation loss: 1.379\tvalidation accuracy: 0.507\n",
      "\t\t##### Found a better model and saved ####\n",
      "Epoch 19/25\tTrain loss: 1.246\tvalidation loss: 1.402\tvalidation accuracy: 0.499\n",
      "Epoch 20/25\tTrain loss: 1.226\tvalidation loss: 1.383\tvalidation accuracy: 0.515\n",
      "Epoch 21/25\tTrain loss: 1.211\tvalidation loss: 1.370\tvalidation accuracy: 0.526\n",
      "\t\t##### Found a better model and saved ####\n",
      "Epoch 22/25\tTrain loss: 1.196\tvalidation loss: 1.375\tvalidation accuracy: 0.526\n",
      "Epoch 23/25\tTrain loss: 1.179\tvalidation loss: 1.340\tvalidation accuracy: 0.524\n",
      "\t\t##### Found a better model and saved ####\n",
      "Epoch 24/25\tTrain loss: 1.159\tvalidation loss: 1.366\tvalidation accuracy: 0.532\n",
      "Epoch 25/25\tTrain loss: 1.145\tvalidation loss: 1.346\tvalidation accuracy: 0.531\n",
      "Training Time: 0.0023\n"
     ]
    }
   ],
   "source": [
    "## YOUR CODE HERE ##\n",
    "print(f\"Used Device: {device} ... Model on GPU: {next(model.parameters()).is_cuda} ...\")\n",
    "\n",
    "epochs = 25\n",
    "min_validation_loss = np.Inf\n",
    "train_log = {\n",
    "    \"train_losses\" : list(),\n",
    "    \"validation_losses\" : list(),\n",
    "    \"validation_accuracy\" : list()\n",
    "}\n",
    "for epoch in range(epochs):\n",
    "    \n",
    "    # Training\n",
    "    train_loss = 0\n",
    "    for images, labels in trainloader:\n",
    "        images, labels = images.to(device), labels.to(device)\n",
    "        images = images.view(images.shape[0], -1)\n",
    "        start_train = datetime.now() \n",
    "        logps = model.forward(images)\n",
    "        loss = criterion(logps, labels)\n",
    "        optimizer.zero_grad()\n",
    "        loss.backward()\n",
    "        optimizer.step()\n",
    "\n",
    "        train_loss += loss.item()\n",
    "    end_train = datetime.now() \n",
    "\n",
    "    # Validation \n",
    "    validation_loss = 0\n",
    "    accuracy = 0\n",
    "    model.eval()\n",
    "    with torch.no_grad():\n",
    "        for images, labels in validloader:\n",
    "            images, labels = images.to(device), labels.to(device)\n",
    "            images = images.view(images.shape[0], -1)\n",
    "            logps = model(images)\n",
    "            batch_loss = criterion(logps, labels)\n",
    "            validation_loss += batch_loss.item()\n",
    "\n",
    "            # Accuracy Calculation\n",
    "            ps = torch.exp(logps)\n",
    "            top_p, top_class = ps.topk(1, dim=1)\n",
    "            equals = top_class == labels.view(top_class.shape)\n",
    "            accuracy += torch.mean(equals.type(torch.FloatTensor)).item()\n",
    "    model.train()\n",
    "\n",
    "    # Results\n",
    "    avg_train_loss = train_loss/len(trainloader)\n",
    "    avg_validation_loss = validation_loss/len(validloader)\n",
    "    avg_validation_acc = accuracy/len(validloader)\n",
    "    train_log[\"train_losses\"].append(avg_train_loss)\n",
    "    train_log[\"validation_losses\"].append(avg_validation_loss)\n",
    "    train_log[\"validation_accuracy\"].append(avg_validation_acc)\n",
    "    print(f\"Epoch {epoch+1}/{epochs}\\t\"\n",
    "          f\"Train loss: {avg_train_loss:.3f}\\t\"\n",
    "          f\"validation loss: {avg_validation_loss:.3f}\\t\"\n",
    "          f\"validation accuracy: {avg_validation_acc:.3f}\")\n",
    "        \n",
    "    # Save best model \n",
    "    if avg_validation_loss < min_validation_loss:\n",
    "        torch.save(model.state_dict(), \"checkpoint.pth\")\n",
    "        print(f\"\\t\\t##### Found a better model and saved ####\")\n",
    "        min_validation_loss = avg_validation_loss\n",
    "    \n",
    "print(f\"Training Time: {(end_train - start_train).total_seconds():.4f}\")"
   ]
  },
  {
   "cell_type": "markdown",
   "metadata": {},
   "source": [
    "Plot the training loss (and validation loss/accuracy, if recorded)."
   ]
  },
  {
   "cell_type": "code",
   "execution_count": 10,
   "metadata": {},
   "outputs": [
    {
     "data": {
      "text/plain": [
       "<matplotlib.legend.Legend at 0x7ff750b1ea90>"
      ]
     },
     "execution_count": 10,
     "metadata": {},
     "output_type": "execute_result"
    },
    {
     "data": {
      "image/png": "[encoded data removed]",
      "text/plain": [
       "<Figure size 432x288 with 1 Axes>"
      ]
     },
     "metadata": {
      "image/png": {
       "height": 248,
       "width": 375
      },
      "needs_background": "light"
     },
     "output_type": "display_data"
    }
   ],
   "source": [
    "## YOUR CODE HERE ##\n",
    "%matplotlib inline\n",
    "%config InlineBackend.figure_format = 'retina'\n",
    "\n",
    "import matplotlib.pyplot as plt\n",
    "plt.plot(train_log[\"train_losses\"], label='Training Loss')\n",
    "plt.plot(train_log[\"validation_losses\"], label='Validation Loss')\n",
    "plt.legend(frameon=False)"
   ]
  },
  {
   "cell_type": "markdown",
   "metadata": {},
   "source": [
    "## Testing your model\n",
    "Using the previously created `DataLoader` for the test set, compute the percentage of correct predictions using the highest probability prediction. \n",
    "\n",
    "If your accuracy is over 70%, great work! \n",
    "This is a hard task to exceed 70% on.\n",
    "\n",
    "If your accuracy is under 45%, you'll need to make improvements.\n",
    "Go back and check your model architecture, loss function, and optimizer to make sure they're appropriate for an image classification task."
   ]
  },
  {
   "cell_type": "code",
   "execution_count": 11,
   "metadata": {},
   "outputs": [
    {
     "data": {
      "text/plain": [
       "odict_keys(['0.weight', '0.bias', '2.weight', '2.bias', '4.weight', '4.bias', '6.weight', '6.bias'])"
      ]
     },
     "execution_count": 11,
     "metadata": {},
     "output_type": "execute_result"
    }
   ],
   "source": [
    "state_dict = torch.load(\"checkpoint.pth\")\n",
    "state_dict.keys()"
   ]
  },
  {
   "cell_type": "code",
   "execution_count": 12,
   "metadata": {},
   "outputs": [
    {
     "name": "stdout",
     "output_type": "stream",
     "text": [
      "Test accuracy: 55.04% in 1250 Test Images\n",
      "Inference Time: 0.0006\n"
     ]
    }
   ],
   "source": [
    "# load the best model \n",
    "state_dict = torch.load(\"checkpoint.pth\")\n",
    "best_model = model\n",
    "best_model.load_state_dict(state_dict)\n",
    "best_model.to(device)\n",
    "\n",
    "test_accuracy = 0\n",
    "\n",
    "best_model.eval()\n",
    "with torch.no_grad():\n",
    "    for images, labels in testloader:\n",
    "        \n",
    "        images, labels = images.to(device), labels.to(device)\n",
    "        images = images.view(images.shape[0], -1)\n",
    "        start_inference = datetime.now()\n",
    "        logps = best_model(images)\n",
    "        \n",
    "        # Calculate accuracy\n",
    "        ps = torch.exp(logps)\n",
    "        top_p, top_class = ps.topk(1, dim=1)\n",
    "        equals = top_class == labels.view(top_class.shape)\n",
    "        test_accuracy += torch.mean(equals.type(torch.FloatTensor)).item()\n",
    "    \n",
    "    print(f\"Test accuracy: {test_accuracy/len(testloader)*100:.2f}% in {len(testloader)} Test Images\")\n",
    "    print(f\"Inference Time: {(datetime.now() - start_inference).total_seconds():.4f}\")"
   ]
  },
  {
   "cell_type": "markdown",
   "metadata": {},
   "source": [
    "## Saving your model\n",
    "Using `torch.save`, save your model for future loading."
   ]
  },
  {
   "cell_type": "code",
   "execution_count": 13,
   "metadata": {},
   "outputs": [
    {
     "name": "stdout",
     "output_type": "stream",
     "text": [
      "odict_keys(['0.weight', '0.bias', '2.weight', '2.bias', '4.weight', '4.bias', '6.weight', '6.bias'])\n"
     ]
    }
   ],
   "source": [
    "state_dict = torch.load('checkpoint.pth')\n",
    "print(state_dict.keys())"
   ]
  },
  {
   "cell_type": "markdown",
   "metadata": {},
   "source": [
    "## Make a Recommendation\n",
    "\n",
    "Based on your evaluation, what is your recommendation on whether to build or buy? Explain your reasoning below.\n",
    "\n",
    "Some things to consider as you formulate your recommendation:\n",
    "* How does your model compare to Detectocorp's model?\n",
    "* How does it compare to the far more advanced solutions in the literature? \n",
    "* What did you do to get the accuracy you achieved? \n",
    "* Is it necessary to improve this accuracy? If so, what sort of work would be involved in improving it?"
   ]
  },
  {
   "cell_type": "markdown",
   "metadata": {},
   "source": [
    "**Answer**\n",
    "* we can improve our model in several direction; first of all we may inject gaussian noise to the data set in order to prevent overfitting, of course the right hyper-parameter tuning should be done further.\n",
    "* Weak but it can be improved \n",
    "* ~55 % of accuracy\n",
    "* Probably we can try different nerual network architecture, spend some more time on hyperparameter tuning, and data augmentation.\n",
    "Maybe there will be double decsent behavior then we can reduce the learning rates of the last half of the network. see -> https://pytorch.org/docs/stable/optim.html#per-parameter-options\n",
    " \n",
    "\n",
    "\n"
   ]
  },
  {
   "cell_type": "markdown",
   "metadata": {},
   "source": [
    "## Submit Your Project\n",
    "\n",
    "When you are finished editing the notebook and are ready to turn it in, simply click the **SUBMIT PROJECT** button in the lower right.\n",
    "\n",
    "Once you submit your project, we'll review your work and give you feedback if there's anything that you need to work on. If you'd like to see the exact points that your reviewer will check for when looking at your work, you can have a look over the project [rubric](https://review.udacity.com/#!/rubrics/3077/view)."
   ]
  }
 ],
 "metadata": {
  "kernelspec": {
   "display_name": "Python 3.9.12 ('usluenv')",
   "language": "python",
   "name": "python3"
  },
  "language_info": {
   "codemirror_mode": {
    "name": "ipython",
    "version": 3
   },
   "file_extension": ".py",
   "mimetype": "text/x-python",
   "name": "python",
   "nbconvert_exporter": "python",
   "pygments_lexer": "ipython3",
   "version": "3.9.12"
  },
  "vscode": {
   "interpreter": {
    "hash": "50a709e53428fdd8a6ca532b7748880fec4d24f632b20a4d1cc6875853d4c66c"
   }
  }
 },
 "nbformat": 4,
 "nbformat_minor": 4
}
